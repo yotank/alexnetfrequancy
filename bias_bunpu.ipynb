{
 "cells": [
  {
   "cell_type": "code",
   "execution_count": 9,
   "metadata": {},
   "outputs": [
    {
     "name": "stdout",
     "output_type": "stream",
     "text": [
      "[-0.3463971   0.2838365  -0.49968186 -0.23649067 -0.5688867  -0.6436641\n",
      " -0.6924773  -0.4955547  -0.23227385  0.25512516 -0.26485363 -0.41346544\n",
      " -0.43461457 -0.70009106 -0.47496662 -0.47548744 -0.69679964 -0.46574312\n",
      " -0.52741444 -0.7435926  -0.6915156  -0.50525445 -0.2625096  -0.65133756\n",
      " -0.4111215  -0.5997434  -0.68655    -0.5016767  -0.72232133 -0.60682845\n",
      " -0.6017115  -0.49666974 -0.5611206  -0.48387265 -0.6110909  -0.54242045\n",
      " -0.56991154 -0.43601885 -0.3956422  -0.37117276  0.03662695 -0.22927734\n",
      "  0.0961724  -0.480799    0.02017708 -0.7724009  -0.63782954 -0.5926624\n",
      " -0.4724126  -0.5151979  -0.7155822  -0.2635522  -0.62939286 -0.3237968\n",
      " -0.6559588  -0.08852144 -0.63524127 -0.58848786 -0.5521372  -0.32681417\n",
      " -0.48454055 -0.6135006  -0.6231938  -0.7153859  -0.7460073  -0.5911307\n",
      " -0.38240275 -0.31587332 -0.6460482  -0.5697083  -0.675176   -0.708902\n",
      " -0.410006   -0.5047665  -0.5587012  -0.6281784  -0.08667693 -0.5107954\n",
      "  0.17226526 -0.54705405 -0.5593643  -0.55164367 -0.18164437 -0.0146798\n",
      " -0.2994107  -0.38288164 -0.0946849  -0.09597142 -0.26413    -0.46921661\n",
      " -0.45871097 -0.6019412  -0.33356422 -0.5627348  -0.39224792 -0.8009203 ]\n"
     ]
    },
    {
     "data": {
      "image/png": "[encoded data removed]",
      "text/plain": [
       "<Figure size 432x288 with 1 Axes>"
      ]
     },
     "metadata": {},
     "output_type": "display_data"
    }
   ],
   "source": [
    "\n",
    "import numpy as np\n",
    "import matplotlib.pyplot as plt\n",
    "\n",
    "weight_1layer_alexnet = np.load(\"weight_1layer_alexnet.npy\")\n",
    "target_layer_weight = weight_1layer_alexnet[0]\n",
    "# weight_1layer_alexnet[1]はバイアス\n",
    "target_layer_bias = weight_1layer_alexnet[1]\n",
    "zeero =np.zeros([96,1])\n",
    "print(target_layer_bias)\n",
    "plt.scatter(target_layer_bias,zeero)\n",
    "plt.show()"
   ]
  },
  {
   "cell_type": "code",
   "execution_count": 10,
   "metadata": {},
   "outputs": [
    {
     "data": {
      "text/plain": [
       "(11, 11, 3, 96)"
      ]
     },
     "execution_count": 10,
     "metadata": {},
     "output_type": "execute_result"
    }
   ],
   "source": [
    "target_layer_weight.shape"
   ]
  },
  {
   "cell_type": "code",
   "execution_count": 11,
   "metadata": {},
   "outputs": [
    {
     "name": "stdout",
     "output_type": "stream",
     "text": [
      "[[-0.07197044 -0.0985574  -0.1142133  -0.09866503 -0.05422999  0.00579098\n",
      "   0.0609322   0.09698141  0.1035617   0.08763631  0.05894964]\n",
      " [-0.10307654 -0.14060804 -0.1508116  -0.11940155 -0.05840036  0.01529879\n",
      "   0.08126979  0.13322914  0.14064664  0.11690935  0.08079476]\n",
      " [-0.116617   -0.15813328 -0.16149682 -0.12576205 -0.05463722  0.02780508\n",
      "   0.08984894  0.14516136  0.15601057  0.13190678  0.09025012]\n",
      " [-0.09508317 -0.12409907 -0.12329043 -0.09423599 -0.0474671   0.01781841\n",
      "   0.07929577  0.12648983  0.12683636  0.110352    0.07672734]\n",
      " [-0.06265729 -0.06358103 -0.06614435 -0.04834912 -0.02534088  0.00690261\n",
      "   0.04428295  0.07765089  0.06927064  0.06164977  0.04488156]\n",
      " [-0.00243305  0.01078923  0.00989603  0.00986809  0.00052186  0.00168705\n",
      "  -0.00177739  0.00813403  0.00767815  0.00039939  0.00034473]\n",
      " [ 0.05048355  0.07571332  0.08255443  0.05777558  0.02718427 -0.00680719\n",
      "  -0.03807627 -0.05540431 -0.06134463 -0.05854443 -0.04539058]\n",
      " [ 0.08161762  0.12276899  0.1316663   0.104187    0.05205862 -0.00943948\n",
      "  -0.06192766 -0.10370392 -0.12163683 -0.10484926 -0.08732783]\n",
      " [ 0.09665044  0.15036748  0.16352542  0.1251506   0.06072197 -0.01486539\n",
      "  -0.08309548 -0.13850546 -0.16110027 -0.1338419  -0.09376978]\n",
      " [ 0.08550321  0.13903536  0.14685744  0.11698166  0.05882207 -0.01561486\n",
      "  -0.08658312 -0.13783835 -0.1556525  -0.12703441 -0.09112071]\n",
      " [ 0.06150874  0.09657238  0.11000557  0.09664212  0.05159535 -0.00958556\n",
      "  -0.06735501 -0.1022994  -0.1163168  -0.10276832 -0.07049172]]\n"
     ]
    }
   ],
   "source": [
    "print(target_layer_weight[:,:,0,1])"
   ]
  },
  {
   "cell_type": "code",
   "execution_count": null,
   "metadata": {},
   "outputs": [],
   "source": []
  }
 ],
 "metadata": {
  "kernelspec": {
   "display_name": "Python 3",
   "language": "python",
   "name": "python3"
  },
  "language_info": {
   "codemirror_mode": {
    "name": "ipython",
    "version": 3
   },
   "file_extension": ".py",
   "mimetype": "text/x-python",
   "name": "python",
   "nbconvert_exporter": "python",
   "pygments_lexer": "ipython3",
   "version": "3.6.3"
  }
 },
 "nbformat": 4,
 "nbformat_minor": 2
}
