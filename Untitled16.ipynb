{
 "cells": [
  {
   "cell_type": "code",
   "execution_count": null,
   "metadata": {
    "collapsed": true
   },
   "outputs": [],
   "source": [
    "#RGBそれぞれ\n",
    "\n",
    "\n",
    "#(3,3,3,64)\n",
    "\n",
    "\n",
    "fig = plt.figure(figsize=(18,18))\n",
    "num_filta = len(target_layer_weight[0,0,0,:])\n",
    "num_channel = len(target_layer_weight[0,0,0,:,0])\n",
    "\n",
    "for channel in range(num_channel):\n",
    "    fig = plt.figure(figsize=(18,18))\n",
    "    for filta in range(num_filta):\n",
    "        data = target_layer_weight[:,:,channel,filta]\n",
    "        plt.subplot(10,7,filta+1)  \n",
    "        plt.imshow(data,cmap=\"gray\")\n",
    "        plt.subplots_adjust(wspace=1,hspace=1)\n",
    "        plt.xticks([],[])\n",
    "        plt.yticks([],[])\n",
    "\n",
    "    \n",
    "        #heatmap = ax.pcolor(data, cmap=plt.cm.binary)\n",
    "        \n",
    "        #ax.set_xticklabels(row_labels, minor=False)\n",
    "        #ax.set_yticklabels(column_labels, minor=False)\n",
    "#plt.show()\n",
    "plt.savefig('VGG16_1st_filter_mean(3cannels).png')\n",
    "plt.show()"
   ]
  }
 ],
 "metadata": {
  "kernelspec": {
   "display_name": "Python 3",
   "language": "python",
   "name": "python3"
  },
  "language_info": {
   "codemirror_mode": {
    "name": "ipython",
    "version": 3
   },
   "file_extension": ".py",
   "mimetype": "text/x-python",
   "name": "python",
   "nbconvert_exporter": "python",
   "pygments_lexer": "ipython3",
   "version": "3.6.3"
  }
 },
 "nbformat": 4,
 "nbformat_minor": 2
}
